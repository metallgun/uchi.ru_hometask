{
 "cells": [
  {
   "cell_type": "markdown",
   "metadata": {},
   "source": [
    "**Шаг 1**. Загрузим и отобразим часть данных из каждого файла."
   ]
  },
  {
   "cell_type": "code",
   "execution_count": 91,
   "metadata": {},
   "outputs": [
    {
     "name": "stdout",
     "output_type": "stream",
     "text": [
      "        id grp\n",
      "0  1206794   B\n",
      "1   331024   B\n",
      "2  1733498   A\n",
      "3   161574   B\n",
      "4   168443   B\n",
      "\n",
      "   student_id\n",
      "0      581585\n",
      "1     5723133\n",
      "2     3276743\n",
      "3     4238589\n",
      "4     4475369\n",
      "\n",
      "   student_id    rev\n",
      "0        1627  990.0\n",
      "1        3185  690.0\n",
      "2       25973  690.0\n",
      "3       26280  690.0\n",
      "4      100300  990.0\n",
      "\n",
      "541\n"
     ]
    }
   ],
   "source": [
    "import pandas as pd\n",
    "import numpy as np\n",
    "\n",
    "groups = pd.read_csv('./data/groups.csv', sep=';')\n",
    "print(groups.head(), end='\\n'*2)\n",
    "\n",
    "active_studs = pd.read_csv('./data/active_studs.csv', sep=';')\n",
    "print(active_studs.head(), end='\\n'*2)\n",
    "\n",
    "checks = pd.read_csv('./data/checks.csv', sep=';')\n",
    "print(checks.head(), end='\\n'*2)\n",
    "print(len(checks))"
   ]
  },
  {
   "cell_type": "markdown",
   "metadata": {},
   "source": [
    "**Шаг 2**. Объединим данные об активных пользователях и о размеченных группах в одну таблицу для того, чтобы понять, кто из активных студентов к какой группе относится."
   ]
  },
  {
   "cell_type": "code",
   "execution_count": 92,
   "metadata": {},
   "outputs": [
    {
     "name": "stdout",
     "output_type": "stream",
     "text": [
      "   student_id       id grp\n",
      "0      581585   581585   A\n",
      "1     5723133  5723133   A\n",
      "2     3276743  3276743   B\n",
      "3     4238589  4238589   A\n",
      "4     4475369  4475369   B\n"
     ]
    }
   ],
   "source": [
    "active_studs_marked = pd.merge(\n",
    "    active_studs,\n",
    "    groups,\n",
    "    how='left',\n",
    "    left_on='student_id',\n",
    "    right_on='id'\n",
    ")\n",
    "print(active_studs_marked.head())"
   ]
  },
  {
   "cell_type": "markdown",
   "metadata": {},
   "source": [
    "**Шаг 3**. Проверим, есть ли среди активных студентов те, кто не попал ни в одну группу."
   ]
  },
  {
   "cell_type": "code",
   "execution_count": 93,
   "metadata": {},
   "outputs": [
    {
     "name": "stdout",
     "output_type": "stream",
     "text": [
      "No unmarked data\n"
     ]
    }
   ],
   "source": [
    "print('No unmarked data' if len(active_studs_marked[active_studs_marked.id.notnull()]) == \n",
    "      len(active_studs_marked['id']) else 'Has unmarked data')"
   ]
  },
  {
   "cell_type": "markdown",
   "metadata": {},
   "source": [
    "**Шаг 4.** Объединим оставшуюся таблицу"
   ]
  },
  {
   "cell_type": "code",
   "execution_count": 94,
   "metadata": {},
   "outputs": [
    {
     "name": "stdout",
     "output_type": "stream",
     "text": [
      "   student_id grp  rev\n",
      "0      581585   A  NaN\n",
      "1     5723133   A  NaN\n",
      "2     3276743   B  NaN\n",
      "3     4238589   A  NaN\n",
      "4     4475369   B  NaN\n",
      "student_id    8341\n",
      "grp           8341\n",
      "rev            392\n",
      "dtype: int64\n"
     ]
    }
   ],
   "source": [
    "all_data = pd.merge(\n",
    "    active_studs_marked[['student_id', 'grp']],\n",
    "    checks,\n",
    "    how='left',\n",
    "    left_on='student_id',\n",
    "    right_on='student_id'\n",
    ").reset_index(drop=True)\n",
    "print(all_data.head())\n",
    "print(all_data.count())"
   ]
  },
  {
   "cell_type": "markdown",
   "metadata": {},
   "source": [
    "**Шаг 5**.\n",
    "Начнем анализ. Для двух групп пользователей рассчитаем следующие показатели:\n",
    "* CR из активности в оплату - при статистически значимом отличии конверсий можем утверждать, что изменение в интерфейсе стало причиной изменения поведения пользователей. \n",
    "* ARPAU/ARPPU - при увеличении среднего чека можем утверждать, что изменение положительно повлияло на юнит-экономику продукта."
   ]
  },
  {
   "cell_type": "markdown",
   "metadata": {},
   "source": [
    "**Шаг 5.1.** Рассчитаем CR из активного пользователя в покупку."
   ]
  },
  {
   "cell_type": "code",
   "execution_count": 96,
   "metadata": {},
   "outputs": [
    {
     "name": "stdout",
     "output_type": "stream",
     "text": [
      "  grp  active  payed        CR\n",
      "0   A    1538     78  0.050715\n",
      "1   B    6803    314  0.046156\n"
     ]
    }
   ],
   "source": [
    "count_analysis = pd.merge(\n",
    "    all_data.groupby('grp').student_id.count().reset_index().rename(columns={'student_id':'active'}),\n",
    "    all_data.groupby('grp').rev.count().reset_index().rename(columns={'rev':'payed'}))\n",
    "cr_analysis = count_analysis.copy()\n",
    "cr_analysis['CR'] = cr_analysis['payed'] / cr_analysis['active']\n",
    "print(cr_analysis)"
   ]
  },
  {
   "cell_type": "markdown",
   "metadata": {},
   "source": [
    "**Анализ**: Проанализируем конверсии в покупку обоих групп при помощи доверительных интервалов.  \n",
    "Можно воспользоваться формулой расчета доверительного интервала, но для упрощению использую калькулятор стат.значимости: https://mindbox.ru/ab-test-calculator/.  \n",
    "**Результат**: Интерфейсные изменения не оказали значимого влияния на изменение конверсии."
   ]
  },
  {
   "cell_type": "markdown",
   "metadata": {},
   "source": [
    "**Шаг 5.2.** Рассчитаем ARPAU/ARPPU"
   ]
  },
  {
   "cell_type": "code",
   "execution_count": 97,
   "metadata": {},
   "outputs": [
    {
     "name": "stdout",
     "output_type": "stream",
     "text": [
      "  grp  active  payed    total_sum      ARPAU        ARPPU\n",
      "0   A    1538     78   72820.0000  47.347204   933.589744\n",
      "1   B    6803    314  394974.0035  58.058798  1257.878992\n"
     ]
    }
   ],
   "source": [
    "check_analysis = all_data.groupby('grp').rev.sum().reset_index().rename(columns={'rev':'total_sum'})\n",
    "check_analysis = pd.merge(\n",
    "    count_analysis,\n",
    "    check_analysis\n",
    ")\n",
    "check_analysis['ARPAU'] = check_analysis['total_sum'] / check_analysis['active']\n",
    "check_analysis['ARPPU'] = check_analysis['total_sum'] / check_analysis['payed']\n",
    "print(check_analysis)"
   ]
  },
  {
   "cell_type": "markdown",
   "metadata": {},
   "source": [
    "**Результат**. Интерфейсные изменения оказали влияние на увеличение среднего чека на обычного и на платящего пользователей.  \n",
    "Таким образом, изменение позитивно повлияло на юнит-экономику в части прибыли.\n",
    "При условии, что CAC останется тем же, изменение в целом позитивно повлияет на юнит-экономику продукта."
   ]
  },
  {
   "cell_type": "markdown",
   "metadata": {},
   "source": [
    "**Итоговые выводы**  \n",
    "Интерфейсное изменение не оказало значимого влияния на конверсию в покупку, однако повысило прибыль с пользователя.  \n",
    "При прочих равных условиях можем сказать, что выкатка изменения на всех пользователей позитивно повлияет на экономику продукта. \n",
    "  \n",
    "  \n",
    "**Для полноценного вывода отсутствуют данные**  \n",
    "Представленные данные не позволяют полноценно судить о влиянии изменения на все продуктовые метрики.  \n",
    "При реализации таких изменений стоит также оценивать влияние изменений на ключевые продуктовые показатели.  \n",
    "Необходимо обратить внимание на следующие метрики: Retention в прохождение обучения после совершения оплаты, Retention в покупку, LTV пользователя, CAC и контрольный замер Retention по месяцам."
   ]
  }
 ],
 "metadata": {
  "kernelspec": {
   "display_name": "Python 3",
   "language": "python",
   "name": "python3"
  },
  "language_info": {
   "codemirror_mode": {
    "name": "ipython",
    "version": 3
   },
   "file_extension": ".py",
   "mimetype": "text/x-python",
   "name": "python",
   "nbconvert_exporter": "python",
   "pygments_lexer": "ipython3",
   "version": "3.7.6"
  }
 },
 "nbformat": 4,
 "nbformat_minor": 4
}
